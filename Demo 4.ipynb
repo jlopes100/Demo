{
 "cells": [
  {
   "cell_type": "markdown",
   "id": "7333fd2f-ce59-4c0b-8dc1-d25dae5b9ec8",
   "metadata": {},
   "source": [
    "# Which diseases are the most infectious?"
   ]
  },
  {
   "cell_type": "markdown",
   "id": "67c421aa-c4ed-44f5-a715-fe31e8274007",
   "metadata": {},
   "source": [
    "$$\n",
    "\\frac{ds}{dt} = \\frac{-βSI}{N}\n",
    "$$\n",
    "\n",
    "$$\n",
    "\\frac{dI}{dt} = \\frac{βSI}{N} - γI\n",
    "$$\n",
    "\n",
    "$$\n",
    "\\frac{dR}{dt} = γI\n",
    "$$\n",
    "\n",
    "$$\n",
    "N = S+I+R\n",
    "$$"
   ]
  }
 ],
 "metadata": {
  "kernelspec": {
   "display_name": "Python 3 (ipykernel)",
   "language": "python",
   "name": "python3"
  },
  "language_info": {
   "codemirror_mode": {
    "name": "ipython",
    "version": 3
   },
   "file_extension": ".py",
   "mimetype": "text/x-python",
   "name": "python",
   "nbconvert_exporter": "python",
   "pygments_lexer": "ipython3",
   "version": "3.9.13"
  }
 },
 "nbformat": 4,
 "nbformat_minor": 5
}
